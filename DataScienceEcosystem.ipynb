{
 "cells": [
  {
   "cell_type": "markdown",
   "id": "88a2e496",
   "metadata": {},
   "source": [
    "# Data Science Tools and Ecosystem"
   ]
  },
  {
   "cell_type": "markdown",
   "id": "df4522b5",
   "metadata": {},
   "source": [
    "In this notebook, Data Science Tools and Ecosystem are summarized."
   ]
  },
  {
   "cell_type": "markdown",
   "id": "b7f914bd",
   "metadata": {},
   "source": [
    "Some of the popular languages that Data Scientists use are:\n",
    "1. Python\n",
    "2. SQL\n",
    "3. R"
   ]
  },
  {
   "cell_type": "markdown",
   "id": "b3c0d75d",
   "metadata": {},
   "source": [
    "Some of the commonly used libraries used by Data Scientists include:\n",
    "\n",
    "    1. Pandas\n",
    "    2. Numpy\n",
    "    3. Matplotlib\n",
    "    4. Seaborn\n",
    "    5. Pytorch"
   ]
  },
  {
   "cell_type": "markdown",
   "id": "a5f5dec9",
   "metadata": {},
   "source": [
    "Data Science Tools\n",
    "1. Anaconda\n",
    "2. Spyder\n",
    "3. Jupyterlab\n",
    "4. VScode"
   ]
  },
  {
   "cell_type": "markdown",
   "id": "3b3c51d9",
   "metadata": {},
   "source": [
    "Below are a few examples of evaluating arithmetic expressions in Python"
   ]
  },
  {
   "cell_type": "code",
   "execution_count": 8,
   "id": "d10a4e81",
   "metadata": {},
   "outputs": [
    {
     "data": {
      "text/plain": [
       "17"
      ]
     },
     "execution_count": 8,
     "metadata": {},
     "output_type": "execute_result"
    }
   ],
   "source": [
    "#This a simple arithmetic expression to mutiply then add integers\n",
    "(3*4)+5"
   ]
  },
  {
   "cell_type": "code",
   "execution_count": 15,
   "id": "bbaf806e",
   "metadata": {},
   "outputs": [
    {
     "name": "stdout",
     "output_type": "stream",
     "text": [
      "8 hours\n"
     ]
    }
   ],
   "source": [
    "#This will convert 200 minutes to hours by diving by 60\n",
    "print(str(round(200/24)) + \" hours\")"
   ]
  },
  {
   "cell_type": "markdown",
   "id": "9dfcebe9",
   "metadata": {},
   "source": [
    "Objectives:\n",
    "\n",
    "    1. List of popular languages that Data Scientists.\n",
    "    2. List of commonly used libraries used by Data Scientists\n",
    "    3. Examples of evaluating arithmetic expressions in Python.\n",
    "    4. How to use Github"
   ]
  },
  {
   "cell_type": "markdown",
   "id": "0fbadcf7",
   "metadata": {},
   "source": [
    "# Author"
   ]
  },
  {
   "cell_type": "markdown",
   "id": "6c0f86b7",
   "metadata": {},
   "source": [
    "Aayush Gupta"
   ]
  },
  {
   "cell_type": "code",
   "execution_count": null,
   "id": "d0e8451b",
   "metadata": {},
   "outputs": [],
   "source": []
  }
 ],
 "metadata": {
  "kernelspec": {
   "display_name": "Python 3 (ipykernel)",
   "language": "python",
   "name": "python3"
  },
  "language_info": {
   "codemirror_mode": {
    "name": "ipython",
    "version": 3
   },
   "file_extension": ".py",
   "mimetype": "text/x-python",
   "name": "python",
   "nbconvert_exporter": "python",
   "pygments_lexer": "ipython3",
   "version": "3.9.7"
  }
 },
 "nbformat": 4,
 "nbformat_minor": 5
}
